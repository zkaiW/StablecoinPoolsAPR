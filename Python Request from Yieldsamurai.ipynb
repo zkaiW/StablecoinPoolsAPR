{
 "cells": [
  {
   "cell_type": "code",
   "execution_count": null,
   "metadata": {},
   "outputs": [],
   "source": [
    "try:\n",
    "    import requests\n",
    "except:\n",
    "    !pip3 install requests\n",
    "import csv\n",
    "import json\n",
    "try:\n",
    "    from numerize import numerize\n",
    "except:\n",
    "    !pip3 install numerize\n",
    "\n",
    "headers = {\n",
    "    \"User-Agent\": \"Mozilla/5.0 (Macintosh; Intel Mac OS X 10_15_7) AppleWebKit/605.1.15 (KHTML, like Gecko) Version/15.4 Safari/605.1.15\"\n",
    "}\n",
    "print(\"Requesting Data ...\")\n",
    "payload = [{\"operationName\":\"PoolHistoricalData\",\"variables\":{\"id\":134217742,\"period\":0,\"range\":None,\"rateKeys\":[\"dapr\",\"tvl\"]},\"query\":\"query PoolHistoricalData($id: Int!, $period: Int, $range: [Int], $rateKeys: [String]!) {\\n  poolHistoricalData(id: $id, period: $period, range: $range, rateKeys: $rateKeys) {\\n    timestamp\\n    dapr\\n    bapr\\n    tvl\\n    vol\\n    utilization\\n    bancorDapr0\\n    bancorDapr1\\n    __typename\\n  }\\n}\\n\"}]\n",
    "response = requests.post(\"https://yieldsamurai.com/graphql\", headers=headers, json=payload)\n",
    "\n",
    "with open(\"yieldsamurai_data.csv\",\"w\", newline='') as outFile:\n",
    "    writer = csv.writer(outFile)\n",
    "    writer.writerow([\"Date\", \"DAPR\", \"TVL\"])\n",
    "    for data in response.json()[0][\"data\"][\"poolHistoricalData\"]:\n",
    "        writer.writerow([data['timestamp'], str(round(data['dapr']*100, 2)) + \"%\", numerize.numerize(data['tvl'])])\n",
    "print(\"File saved Successfully!\")"
   ]
  }
 ],
 "metadata": {
  "interpreter": {
   "hash": "aee8b7b246df8f9039afb4144a1f6fd8d2ca17a180786b69acc140d282b71a49"
  },
  "kernelspec": {
   "display_name": "Python 3",
   "language": "python",
   "name": "python3"
  },
  "language_info": {
   "codemirror_mode": {
    "name": "ipython",
    "version": 3
   },
   "file_extension": ".py",
   "mimetype": "text/x-python",
   "name": "python",
   "nbconvert_exporter": "python",
   "pygments_lexer": "ipython3",
   "version": "3.8.8"
  }
 },
 "nbformat": 4,
 "nbformat_minor": 2
}
