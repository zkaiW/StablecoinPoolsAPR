{
 "cells": [
  {
   "cell_type": "markdown",
   "metadata": {
    "id": "vmT-pQpfr41-"
   },
   "source": [
    "---\n",
    "\n",
    "# Time Series with LSTM\n",
    "\n",
    "## GOAL 🎯\n",
    "\n",
    "- Creating a Time Series Model using LSTM to forecast future DAPR (1 week time frame)\n",
    "\n",
    "## Concept \n",
    "\n",
    "### LSTM \n",
    "\n",
    "Long Short Term Memory networks – usually just called “LSTMs” – are a special kind of RNN, capable of learning long-term dependencies.\n",
    "\n",
    "LSTMs are explicitly designed to avoid the long-term dependency problem. Remembering information for long periods of time is practically their default behavior, not something they struggle to learn!\n",
    "LSTM are useful for making predictions, classification and processing sequential data. We use many kinds of LSTM for different purposes or for different specific types of time series forecasting."
   ]
  },
  {
   "cell_type": "markdown",
   "metadata": {
    "id": "WTKLVBUOaj91"
   },
   "source": [
    "#### Mounting Google Drive"
   ]
  },
  {
   "cell_type": "code",
   "execution_count": 1,
   "metadata": {
    "colab": {
     "base_uri": "https://localhost:8080/"
    },
    "id": "iIsMnNJTsGOh",
    "outputId": "6feedec7-9351-45b2-b4df-9830c95f8bd2"
   },
   "outputs": [
    {
     "name": "stdout",
     "output_type": "stream",
     "text": [
      "Drive already mounted at /content/drive; to attempt to forcibly remount, call drive.mount(\"/content/drive\", force_remount=True).\n"
     ]
    }
   ],
   "source": [
    "from google.colab import drive\n",
    "drive.mount('/content/drive')"
   ]
  },
  {
   "cell_type": "markdown",
   "metadata": {
    "id": "J8qUcqhzCtJ5"
   },
   "source": [
    "#### Importing the required Libraries"
   ]
  },
  {
   "cell_type": "code",
   "execution_count": 2,
   "metadata": {
    "id": "JCOZLjEkhUrI"
   },
   "outputs": [],
   "source": [
    "# Imports we may need\n",
    "\n",
    "import seaborn as sns\n",
    "import matplotlib.pyplot as plt\n",
    "import scipy.stats as stats\n",
    "import pandas as pd\n",
    "import numpy as np\n",
    "import re\n",
    "from sklearn.preprocessing import MinMaxScaler\n",
    "\n",
    "%matplotlib inline\n",
    "\n",
    "from tensorflow.keras.models import Sequential\n",
    "from tensorflow.keras.layers import LSTM\n",
    "from tensorflow.keras.layers import Dense, Dropout\n",
    "\n",
    "import warnings\n",
    "warnings.filterwarnings('ignore')\n",
    "\n",
    "sns.set(rc={'figure.figsize':(12.7,5.27)})"
   ]
  },
  {
   "cell_type": "markdown",
   "metadata": {
    "id": "Jtq6QUwmLzyY"
   },
   "source": [
    "#### Loading the Data"
   ]
  },
  {
   "cell_type": "code",
   "execution_count": 3,
   "metadata": {
    "id": "WCYLp7xNr41_"
   },
   "outputs": [],
   "source": [
    "# Loadng Data using Pandas\n",
    "\n",
    "data = pd.read_csv('/content/drive/MyDrive/zikai/ETH_STETH_LSTM/yieldsamurai_data.csv')"
   ]
  },
  {
   "cell_type": "markdown",
   "metadata": {
    "id": "vMlBPAAtasUJ"
   },
   "source": [
    "#### Let's have a Quick Look at the Data"
   ]
  },
  {
   "cell_type": "code",
   "execution_count": 4,
   "metadata": {
    "colab": {
     "base_uri": "https://localhost:8080/",
     "height": 677
    },
    "id": "XsUTVorHhghg",
    "outputId": "d9a0fd8f-1372-40d7-acbe-7a39ec82728b"
   },
   "outputs": [
    {
     "data": {
      "text/html": [
       "\n",
       "  <div id=\"df-4dd08cf3-e8cc-4b48-bbcf-c090863d589f\">\n",
       "    <div class=\"colab-df-container\">\n",
       "      <div>\n",
       "<style scoped>\n",
       "    .dataframe tbody tr th:only-of-type {\n",
       "        vertical-align: middle;\n",
       "    }\n",
       "\n",
       "    .dataframe tbody tr th {\n",
       "        vertical-align: top;\n",
       "    }\n",
       "\n",
       "    .dataframe thead th {\n",
       "        text-align: right;\n",
       "    }\n",
       "</style>\n",
       "<table border=\"1\" class=\"dataframe\">\n",
       "  <thead>\n",
       "    <tr style=\"text-align: right;\">\n",
       "      <th></th>\n",
       "      <th>Date</th>\n",
       "      <th>DAPR</th>\n",
       "      <th>TVL</th>\n",
       "    </tr>\n",
       "  </thead>\n",
       "  <tbody>\n",
       "    <tr>\n",
       "      <th>0</th>\n",
       "      <td>2021-01-05T00:00:00.000Z</td>\n",
       "      <td>0.07%</td>\n",
       "      <td>14.75M</td>\n",
       "    </tr>\n",
       "    <tr>\n",
       "      <th>1</th>\n",
       "      <td>2021-01-06T00:00:00.000Z</td>\n",
       "      <td>0.3%</td>\n",
       "      <td>12.7M</td>\n",
       "    </tr>\n",
       "    <tr>\n",
       "      <th>2</th>\n",
       "      <td>2021-01-07T00:00:00.000Z</td>\n",
       "      <td>0.22%</td>\n",
       "      <td>13.17M</td>\n",
       "    </tr>\n",
       "    <tr>\n",
       "      <th>3</th>\n",
       "      <td>2021-01-08T00:00:00.000Z</td>\n",
       "      <td>0.14%</td>\n",
       "      <td>13.36M</td>\n",
       "    </tr>\n",
       "    <tr>\n",
       "      <th>4</th>\n",
       "      <td>2021-01-09T00:00:00.000Z</td>\n",
       "      <td>0.18%</td>\n",
       "      <td>14.4M</td>\n",
       "    </tr>\n",
       "    <tr>\n",
       "      <th>5</th>\n",
       "      <td>2021-01-10T00:00:00.000Z</td>\n",
       "      <td>0.04%</td>\n",
       "      <td>20.89M</td>\n",
       "    </tr>\n",
       "    <tr>\n",
       "      <th>6</th>\n",
       "      <td>2021-01-11T00:00:00.000Z</td>\n",
       "      <td>0.05%</td>\n",
       "      <td>28.61M</td>\n",
       "    </tr>\n",
       "    <tr>\n",
       "      <th>7</th>\n",
       "      <td>2021-01-12T00:00:00.000Z</td>\n",
       "      <td>0.12%</td>\n",
       "      <td>30.68M</td>\n",
       "    </tr>\n",
       "    <tr>\n",
       "      <th>8</th>\n",
       "      <td>2021-01-13T00:00:00.000Z</td>\n",
       "      <td>1.52%</td>\n",
       "      <td>58.5M</td>\n",
       "    </tr>\n",
       "    <tr>\n",
       "      <th>9</th>\n",
       "      <td>2021-01-14T00:00:00.000Z</td>\n",
       "      <td>57.75%</td>\n",
       "      <td>123.47M</td>\n",
       "    </tr>\n",
       "    <tr>\n",
       "      <th>10</th>\n",
       "      <td>2021-01-15T00:00:00.000Z</td>\n",
       "      <td>46.14%</td>\n",
       "      <td>147.6M</td>\n",
       "    </tr>\n",
       "    <tr>\n",
       "      <th>11</th>\n",
       "      <td>2021-01-16T00:00:00.000Z</td>\n",
       "      <td>40.99%</td>\n",
       "      <td>153.5M</td>\n",
       "    </tr>\n",
       "    <tr>\n",
       "      <th>12</th>\n",
       "      <td>2021-01-17T00:00:00.000Z</td>\n",
       "      <td>39.82%</td>\n",
       "      <td>148.8M</td>\n",
       "    </tr>\n",
       "    <tr>\n",
       "      <th>13</th>\n",
       "      <td>2021-01-18T00:00:00.000Z</td>\n",
       "      <td>39.51%</td>\n",
       "      <td>146.56M</td>\n",
       "    </tr>\n",
       "    <tr>\n",
       "      <th>14</th>\n",
       "      <td>2021-01-19T00:00:00.000Z</td>\n",
       "      <td>43.31%</td>\n",
       "      <td>138.12M</td>\n",
       "    </tr>\n",
       "    <tr>\n",
       "      <th>15</th>\n",
       "      <td>2021-01-20T00:00:00.000Z</td>\n",
       "      <td>37.51%</td>\n",
       "      <td>161.14M</td>\n",
       "    </tr>\n",
       "    <tr>\n",
       "      <th>16</th>\n",
       "      <td>2021-01-21T00:00:00.000Z</td>\n",
       "      <td>31.79%</td>\n",
       "      <td>166.51M</td>\n",
       "    </tr>\n",
       "    <tr>\n",
       "      <th>17</th>\n",
       "      <td>2021-01-22T00:00:00.000Z</td>\n",
       "      <td>29.36%</td>\n",
       "      <td>168.77M</td>\n",
       "    </tr>\n",
       "    <tr>\n",
       "      <th>18</th>\n",
       "      <td>2021-01-23T00:00:00.000Z</td>\n",
       "      <td>31.8%</td>\n",
       "      <td>177.07M</td>\n",
       "    </tr>\n",
       "    <tr>\n",
       "      <th>19</th>\n",
       "      <td>2021-01-24T00:00:00.000Z</td>\n",
       "      <td>39.28%</td>\n",
       "      <td>206.63M</td>\n",
       "    </tr>\n",
       "  </tbody>\n",
       "</table>\n",
       "</div>\n",
       "      <button class=\"colab-df-convert\" onclick=\"convertToInteractive('df-4dd08cf3-e8cc-4b48-bbcf-c090863d589f')\"\n",
       "              title=\"Convert this dataframe to an interactive table.\"\n",
       "              style=\"display:none;\">\n",
       "        \n",
       "  <svg xmlns=\"http://www.w3.org/2000/svg\" height=\"24px\"viewBox=\"0 0 24 24\"\n",
       "       width=\"24px\">\n",
       "    <path d=\"M0 0h24v24H0V0z\" fill=\"none\"/>\n",
       "    <path d=\"M18.56 5.44l.94 2.06.94-2.06 2.06-.94-2.06-.94-.94-2.06-.94 2.06-2.06.94zm-11 1L8.5 8.5l.94-2.06 2.06-.94-2.06-.94L8.5 2.5l-.94 2.06-2.06.94zm10 10l.94 2.06.94-2.06 2.06-.94-2.06-.94-.94-2.06-.94 2.06-2.06.94z\"/><path d=\"M17.41 7.96l-1.37-1.37c-.4-.4-.92-.59-1.43-.59-.52 0-1.04.2-1.43.59L10.3 9.45l-7.72 7.72c-.78.78-.78 2.05 0 2.83L4 21.41c.39.39.9.59 1.41.59.51 0 1.02-.2 1.41-.59l7.78-7.78 2.81-2.81c.8-.78.8-2.07 0-2.86zM5.41 20L4 18.59l7.72-7.72 1.47 1.35L5.41 20z\"/>\n",
       "  </svg>\n",
       "      </button>\n",
       "      \n",
       "  <style>\n",
       "    .colab-df-container {\n",
       "      display:flex;\n",
       "      flex-wrap:wrap;\n",
       "      gap: 12px;\n",
       "    }\n",
       "\n",
       "    .colab-df-convert {\n",
       "      background-color: #E8F0FE;\n",
       "      border: none;\n",
       "      border-radius: 50%;\n",
       "      cursor: pointer;\n",
       "      display: none;\n",
       "      fill: #1967D2;\n",
       "      height: 32px;\n",
       "      padding: 0 0 0 0;\n",
       "      width: 32px;\n",
       "    }\n",
       "\n",
       "    .colab-df-convert:hover {\n",
       "      background-color: #E2EBFA;\n",
       "      box-shadow: 0px 1px 2px rgba(60, 64, 67, 0.3), 0px 1px 3px 1px rgba(60, 64, 67, 0.15);\n",
       "      fill: #174EA6;\n",
       "    }\n",
       "\n",
       "    [theme=dark] .colab-df-convert {\n",
       "      background-color: #3B4455;\n",
       "      fill: #D2E3FC;\n",
       "    }\n",
       "\n",
       "    [theme=dark] .colab-df-convert:hover {\n",
       "      background-color: #434B5C;\n",
       "      box-shadow: 0px 1px 3px 1px rgba(0, 0, 0, 0.15);\n",
       "      filter: drop-shadow(0px 1px 2px rgba(0, 0, 0, 0.3));\n",
       "      fill: #FFFFFF;\n",
       "    }\n",
       "  </style>\n",
       "\n",
       "      <script>\n",
       "        const buttonEl =\n",
       "          document.querySelector('#df-4dd08cf3-e8cc-4b48-bbcf-c090863d589f button.colab-df-convert');\n",
       "        buttonEl.style.display =\n",
       "          google.colab.kernel.accessAllowed ? 'block' : 'none';\n",
       "\n",
       "        async function convertToInteractive(key) {\n",
       "          const element = document.querySelector('#df-4dd08cf3-e8cc-4b48-bbcf-c090863d589f');\n",
       "          const dataTable =\n",
       "            await google.colab.kernel.invokeFunction('convertToInteractive',\n",
       "                                                     [key], {});\n",
       "          if (!dataTable) return;\n",
       "\n",
       "          const docLinkHtml = 'Like what you see? Visit the ' +\n",
       "            '<a target=\"_blank\" href=https://colab.research.google.com/notebooks/data_table.ipynb>data table notebook</a>'\n",
       "            + ' to learn more about interactive tables.';\n",
       "          element.innerHTML = '';\n",
       "          dataTable['output_type'] = 'display_data';\n",
       "          await google.colab.output.renderOutput(dataTable, element);\n",
       "          const docLink = document.createElement('div');\n",
       "          docLink.innerHTML = docLinkHtml;\n",
       "          element.appendChild(docLink);\n",
       "        }\n",
       "      </script>\n",
       "    </div>\n",
       "  </div>\n",
       "  "
      ],
      "text/plain": [
       "                        Date    DAPR      TVL\n",
       "0   2021-01-05T00:00:00.000Z   0.07%   14.75M\n",
       "1   2021-01-06T00:00:00.000Z    0.3%    12.7M\n",
       "2   2021-01-07T00:00:00.000Z   0.22%   13.17M\n",
       "3   2021-01-08T00:00:00.000Z   0.14%   13.36M\n",
       "4   2021-01-09T00:00:00.000Z   0.18%    14.4M\n",
       "5   2021-01-10T00:00:00.000Z   0.04%   20.89M\n",
       "6   2021-01-11T00:00:00.000Z   0.05%   28.61M\n",
       "7   2021-01-12T00:00:00.000Z   0.12%   30.68M\n",
       "8   2021-01-13T00:00:00.000Z   1.52%    58.5M\n",
       "9   2021-01-14T00:00:00.000Z  57.75%  123.47M\n",
       "10  2021-01-15T00:00:00.000Z  46.14%   147.6M\n",
       "11  2021-01-16T00:00:00.000Z  40.99%   153.5M\n",
       "12  2021-01-17T00:00:00.000Z  39.82%   148.8M\n",
       "13  2021-01-18T00:00:00.000Z  39.51%  146.56M\n",
       "14  2021-01-19T00:00:00.000Z  43.31%  138.12M\n",
       "15  2021-01-20T00:00:00.000Z  37.51%  161.14M\n",
       "16  2021-01-21T00:00:00.000Z  31.79%  166.51M\n",
       "17  2021-01-22T00:00:00.000Z  29.36%  168.77M\n",
       "18  2021-01-23T00:00:00.000Z   31.8%  177.07M\n",
       "19  2021-01-24T00:00:00.000Z  39.28%  206.63M"
      ]
     },
     "execution_count": 4,
     "metadata": {},
     "output_type": "execute_result"
    }
   ],
   "source": [
    "data.head(20)"
   ]
  },
  {
   "cell_type": "markdown",
   "metadata": {
    "id": "9fhPPZe1ay3v"
   },
   "source": [
    "#### Checking for Data Types of the columns"
   ]
  },
  {
   "cell_type": "code",
   "execution_count": 5,
   "metadata": {
    "colab": {
     "base_uri": "https://localhost:8080/"
    },
    "id": "hWsFptl-a1I9",
    "outputId": "c315f310-7f4a-4370-a5f6-081c0a8bd0c4"
   },
   "outputs": [
    {
     "name": "stdout",
     "output_type": "stream",
     "text": [
      "<class 'pandas.core.frame.DataFrame'>\n",
      "RangeIndex: 464 entries, 0 to 463\n",
      "Data columns (total 3 columns):\n",
      " #   Column  Non-Null Count  Dtype \n",
      "---  ------  --------------  ----- \n",
      " 0   Date    464 non-null    object\n",
      " 1   DAPR    464 non-null    object\n",
      " 2   TVL     464 non-null    object\n",
      "dtypes: object(3)\n",
      "memory usage: 11.0+ KB\n"
     ]
    }
   ],
   "source": [
    "data.info()"
   ]
  },
  {
   "cell_type": "markdown",
   "metadata": {
    "id": "NhV95nL5Q3xX"
   },
   "source": [
    "### Cleaning column values:\n",
    "- The date column has some extra charcters which needs to be removed\n",
    "- DAPR column has a \"%\" sign which needs to be removed, since model understands only numeric values\n",
    "- Similarly for TVL column there are abberivations like B and M for billion and million which needs to be removed"
   ]
  },
  {
   "cell_type": "markdown",
   "metadata": {
    "id": "VL2npi9ufta7"
   },
   "source": [
    "##### Cleaning \"DAPR\" Column"
   ]
  },
  {
   "cell_type": "code",
   "execution_count": 6,
   "metadata": {
    "id": "tIkyCmp5TeTA"
   },
   "outputs": [],
   "source": [
    "data['DAPR'] = data['DAPR'].str.rstrip('%').astype('float') / 100.0"
   ]
  },
  {
   "cell_type": "markdown",
   "metadata": {
    "id": "Daf4q1eTfylX"
   },
   "source": [
    "##### Cleaning \"TVL\" Column"
   ]
  },
  {
   "cell_type": "code",
   "execution_count": 7,
   "metadata": {
    "id": "lAWoiTVVX8i5"
   },
   "outputs": [],
   "source": [
    "def conversion(text):\n",
    "  if text[-1]==\"M\":\n",
    "    result = float(text[:-1])*1000000\n",
    "  elif text[-1]==\"B\":\n",
    "    result = float(text[:-1])*1000000000\n",
    "  return result\n"
   ]
  },
  {
   "cell_type": "code",
   "execution_count": 8,
   "metadata": {
    "id": "IWQnJy3yTeN5"
   },
   "outputs": [],
   "source": [
    "data['TVL'] = data['TVL'].apply(conversion)"
   ]
  },
  {
   "cell_type": "markdown",
   "metadata": {
    "id": "138KxMLkf4aR"
   },
   "source": [
    "##### Cleaning \"Date\" Column"
   ]
  },
  {
   "cell_type": "code",
   "execution_count": 9,
   "metadata": {
    "id": "HUklt15EQtUW"
   },
   "outputs": [],
   "source": [
    "data['Date'] = data['Date'].str.replace(\"T00:00:00.000Z\",\"\")"
   ]
  },
  {
   "cell_type": "markdown",
   "metadata": {
    "id": "ITEKaujfl9U9"
   },
   "source": [
    "#### Checking for NULL values"
   ]
  },
  {
   "cell_type": "code",
   "execution_count": 10,
   "metadata": {
    "colab": {
     "base_uri": "https://localhost:8080/"
    },
    "id": "gI2VN5twl4th",
    "outputId": "4f41d0c4-3944-4bf6-8397-2b381e755318"
   },
   "outputs": [
    {
     "data": {
      "text/plain": [
       "Date    0\n",
       "DAPR    0\n",
       "TVL     0\n",
       "dtype: int64"
      ]
     },
     "execution_count": 10,
     "metadata": {},
     "output_type": "execute_result"
    }
   ],
   "source": [
    "data.isnull().sum()"
   ]
  },
  {
   "cell_type": "markdown",
   "metadata": {
    "id": "864AObNUa-u6"
   },
   "source": [
    "#### We clearly have a completely clean data with no NULL values to deal with, now let's convert our Date column to datetime "
   ]
  },
  {
   "cell_type": "code",
   "execution_count": 11,
   "metadata": {
    "id": "WcTqysNXvoVu"
   },
   "outputs": [],
   "source": [
    "data['Date'] = data['Date'].apply(pd.to_datetime)"
   ]
  },
  {
   "cell_type": "markdown",
   "metadata": {
    "id": "YSv-UkT0LlBZ"
   },
   "source": [
    "# ===================================================================="
   ]
  },
  {
   "cell_type": "markdown",
   "metadata": {
    "id": "V0nYKL75K0b5"
   },
   "source": [
    "# LSTM Model"
   ]
  },
  {
   "cell_type": "markdown",
   "metadata": {
    "id": "R_wqITSobwMd"
   },
   "source": [
    "## Approach\n",
    "We'll include the following steps in our apporach:\n",
    "\n",
    "- **Data Scaling:**\n",
    "This step would involve scaling the data to bring the values in same range\n",
    "\n",
    "- **Creating Training Data:**\n",
    "Training Data will then be created by selecting the relevant columns and thus getting a data which is suitable to be pushed into the LSTM Model\n",
    "\n",
    "- **Model Building:**\n",
    "The Multivariate LSTM Model is then created and trained on the training data to be able to generate results. LSTM makes predictions based on whether the past recent values were going up or going down. So we provide the no. of days to look back \n",
    "\n",
    "- **Making Predictions:**\n",
    "Once training is done we create a Date Range for which we require the predictions and use our trained Model to generate predictions\n",
    "\n",
    "- **Inverse Transformation:**\n",
    "The result obtained will have to be transformed again to get the actual values\n",
    "\n",
    "- **Plotting The Results:**\n",
    "Once we get the actual predicted values we plot the results to have a better view of the model performance.\n",
    " \n",
    "\n",
    "Let's execute the above steps now\n",
    "\n",
    "\n",
    "\n"
   ]
  },
  {
   "cell_type": "markdown",
   "metadata": {
    "id": "lBZHSg7Ddhrz"
   },
   "source": [
    "#### Starting with removing the Date column and scaling the data, to be able to fed into LSTM Model"
   ]
  },
  {
   "cell_type": "code",
   "execution_count": 12,
   "metadata": {
    "id": "OVAuJ8pscmXy"
   },
   "outputs": [],
   "source": [
    "# Sorting dataframe using Date Column\n",
    "data = data.sort_values(by=['Date'])\n",
    "\n",
    "df = data.iloc[:,1:]\n",
    "\n",
    "# Scaling the Data\n",
    "scaler = MinMaxScaler(feature_range=(0,1))\n",
    "scaler = scaler.fit(df)\n",
    "df_for_training_scaled = scaler.transform(df)\n"
   ]
  },
  {
   "cell_type": "markdown",
   "metadata": {
    "id": "7BL2NxSBdvXB"
   },
   "source": [
    "#### Creating trainX and trainY which are basically the matrices created based on no. of days we wish to look back and no. of days we wish to predict in future"
   ]
  },
  {
   "cell_type": "code",
   "execution_count": 13,
   "metadata": {
    "id": "AFs-MyFlL3mN"
   },
   "outputs": [],
   "source": [
    "#Empty lists to be populated using formatted training data\n",
    "trainX = []\n",
    "trainY = []\n",
    "\n",
    "# Number of past days the model will look back\n",
    "n_past = 10\n",
    "\n",
    "# Number of Days in the future to forecast, we will use 1 Day here to forecast each upcoming Day\n",
    "n_future = 1\n",
    "\n",
    "for i in range(n_past, len(df_for_training_scaled) - n_future + 1):\n",
    "  trainX.append(df_for_training_scaled[i - n_past:i, 0:df.shape[1]])\n",
    "  trainY.append(df_for_training_scaled[i + n_future - 1:i + n_future, 0])\n",
    "\n",
    "# Converting the training data into Array\n",
    "trainX, trainY = np.array(trainX), np.array(trainY)"
   ]
  },
  {
   "cell_type": "markdown",
   "metadata": {
    "id": "pHDWkDkreGeo"
   },
   "source": [
    "#### Building our LSTM model by choosing apropriate hyperparameters"
   ]
  },
  {
   "cell_type": "code",
   "execution_count": 14,
   "metadata": {
    "colab": {
     "base_uri": "https://localhost:8080/",
     "height": 1000
    },
    "id": "1lg_dyOAcsGR",
    "outputId": "0044d5f6-4303-4f9e-b367-0d60a947f503"
   },
   "outputs": [
    {
     "name": "stdout",
     "output_type": "stream",
     "text": [
      "WARNING:tensorflow:Layer lstm will not use cuDNN kernels since it doesn't meet the criteria. It will use a generic GPU kernel as fallback when running on GPU.\n",
      "WARNING:tensorflow:Layer lstm_1 will not use cuDNN kernels since it doesn't meet the criteria. It will use a generic GPU kernel as fallback when running on GPU.\n",
      "Epoch 1/125\n",
      "13/13 [==============================] - 4s 94ms/step - loss: 0.0316 - val_loss: 0.0075\n",
      "Epoch 2/125\n",
      "13/13 [==============================] - 1s 48ms/step - loss: 0.0099 - val_loss: 5.9016e-05\n",
      "Epoch 3/125\n",
      "13/13 [==============================] - 1s 53ms/step - loss: 0.0078 - val_loss: 0.0012\n",
      "Epoch 4/125\n",
      "13/13 [==============================] - 1s 44ms/step - loss: 0.0077 - val_loss: 1.9831e-04\n",
      "Epoch 5/125\n",
      "13/13 [==============================] - 1s 51ms/step - loss: 0.0062 - val_loss: 5.0259e-04\n",
      "Epoch 6/125\n",
      "13/13 [==============================] - 1s 43ms/step - loss: 0.0057 - val_loss: 3.6922e-04\n",
      "Epoch 7/125\n",
      "13/13 [==============================] - 1s 51ms/step - loss: 0.0050 - val_loss: 7.2254e-04\n",
      "Epoch 8/125\n",
      "13/13 [==============================] - 1s 47ms/step - loss: 0.0048 - val_loss: 6.8514e-04\n",
      "Epoch 9/125\n",
      "13/13 [==============================] - 0s 36ms/step - loss: 0.0046 - val_loss: 4.0810e-04\n",
      "Epoch 10/125\n",
      "13/13 [==============================] - 0s 32ms/step - loss: 0.0051 - val_loss: 8.4645e-04\n",
      "Epoch 11/125\n",
      "13/13 [==============================] - 0s 31ms/step - loss: 0.0039 - val_loss: 2.0972e-04\n",
      "Epoch 12/125\n",
      "13/13 [==============================] - 0s 31ms/step - loss: 0.0042 - val_loss: 7.5781e-04\n",
      "Epoch 13/125\n",
      "13/13 [==============================] - 0s 35ms/step - loss: 0.0043 - val_loss: 7.1966e-04\n",
      "Epoch 14/125\n",
      "13/13 [==============================] - 0s 31ms/step - loss: 0.0048 - val_loss: 2.0307e-04\n",
      "Epoch 15/125\n",
      "13/13 [==============================] - 0s 31ms/step - loss: 0.0038 - val_loss: 2.2127e-04\n",
      "Epoch 16/125\n",
      "13/13 [==============================] - 0s 31ms/step - loss: 0.0040 - val_loss: 4.9363e-04\n",
      "Epoch 17/125\n",
      "13/13 [==============================] - 0s 31ms/step - loss: 0.0036 - val_loss: 3.4208e-04\n",
      "Epoch 18/125\n",
      "13/13 [==============================] - 0s 34ms/step - loss: 0.0044 - val_loss: 4.8963e-04\n",
      "Epoch 19/125\n",
      "13/13 [==============================] - 0s 31ms/step - loss: 0.0045 - val_loss: 5.8114e-04\n",
      "Epoch 20/125\n",
      "13/13 [==============================] - 0s 32ms/step - loss: 0.0038 - val_loss: 8.7240e-05\n",
      "Epoch 21/125\n",
      "13/13 [==============================] - 0s 31ms/step - loss: 0.0045 - val_loss: 5.9620e-05\n",
      "Epoch 22/125\n",
      "13/13 [==============================] - 0s 31ms/step - loss: 0.0038 - val_loss: 2.1501e-04\n",
      "Epoch 23/125\n",
      "13/13 [==============================] - 0s 31ms/step - loss: 0.0038 - val_loss: 1.6830e-04\n",
      "Epoch 24/125\n",
      "13/13 [==============================] - 0s 31ms/step - loss: 0.0040 - val_loss: 2.9265e-04\n",
      "Epoch 25/125\n",
      "13/13 [==============================] - 0s 31ms/step - loss: 0.0039 - val_loss: 1.4321e-04\n",
      "Epoch 26/125\n",
      "13/13 [==============================] - 0s 31ms/step - loss: 0.0038 - val_loss: 2.1018e-04\n",
      "Epoch 27/125\n",
      "13/13 [==============================] - 0s 31ms/step - loss: 0.0038 - val_loss: 1.4378e-04\n",
      "Epoch 28/125\n",
      "13/13 [==============================] - 0s 32ms/step - loss: 0.0040 - val_loss: 3.5122e-04\n",
      "Epoch 29/125\n",
      "13/13 [==============================] - 1s 44ms/step - loss: 0.0039 - val_loss: 6.9382e-04\n",
      "Epoch 30/125\n",
      "13/13 [==============================] - 1s 55ms/step - loss: 0.0041 - val_loss: 4.9162e-04\n",
      "Epoch 31/125\n",
      "13/13 [==============================] - 1s 53ms/step - loss: 0.0043 - val_loss: 1.2242e-04\n",
      "Epoch 32/125\n",
      "13/13 [==============================] - 1s 41ms/step - loss: 0.0037 - val_loss: 1.5441e-04\n",
      "Epoch 33/125\n",
      "13/13 [==============================] - 1s 42ms/step - loss: 0.0037 - val_loss: 1.5702e-04\n",
      "Epoch 34/125\n",
      "13/13 [==============================] - 1s 44ms/step - loss: 0.0041 - val_loss: 2.0166e-04\n",
      "Epoch 35/125\n",
      "13/13 [==============================] - 1s 47ms/step - loss: 0.0042 - val_loss: 2.5197e-04\n",
      "Epoch 36/125\n",
      "13/13 [==============================] - 1s 42ms/step - loss: 0.0031 - val_loss: 2.5720e-04\n",
      "Epoch 37/125\n",
      "13/13 [==============================] - 0s 31ms/step - loss: 0.0037 - val_loss: 2.7985e-04\n",
      "Epoch 38/125\n",
      "13/13 [==============================] - 0s 31ms/step - loss: 0.0036 - val_loss: 2.1886e-04\n",
      "Epoch 39/125\n",
      "13/13 [==============================] - 0s 31ms/step - loss: 0.0034 - val_loss: 4.0675e-04\n",
      "Epoch 40/125\n",
      "13/13 [==============================] - 0s 30ms/step - loss: 0.0033 - val_loss: 1.9272e-04\n",
      "Epoch 41/125\n",
      "13/13 [==============================] - 0s 31ms/step - loss: 0.0039 - val_loss: 3.8132e-04\n",
      "Epoch 42/125\n",
      "13/13 [==============================] - 0s 30ms/step - loss: 0.0037 - val_loss: 2.6343e-04\n",
      "Epoch 43/125\n",
      "13/13 [==============================] - 0s 31ms/step - loss: 0.0036 - val_loss: 4.7426e-04\n",
      "Epoch 44/125\n",
      "13/13 [==============================] - 0s 30ms/step - loss: 0.0036 - val_loss: 3.1173e-04\n",
      "Epoch 45/125\n",
      "13/13 [==============================] - 0s 30ms/step - loss: 0.0033 - val_loss: 3.4153e-04\n",
      "Epoch 46/125\n",
      "13/13 [==============================] - 0s 31ms/step - loss: 0.0032 - val_loss: 3.3923e-04\n",
      "Epoch 47/125\n",
      "13/13 [==============================] - 0s 31ms/step - loss: 0.0035 - val_loss: 2.3710e-04\n",
      "Epoch 48/125\n",
      "13/13 [==============================] - 0s 31ms/step - loss: 0.0031 - val_loss: 2.5983e-04\n",
      "Epoch 49/125\n",
      "13/13 [==============================] - 0s 34ms/step - loss: 0.0030 - val_loss: 3.2057e-04\n",
      "Epoch 50/125\n",
      "13/13 [==============================] - 0s 31ms/step - loss: 0.0037 - val_loss: 2.3798e-04\n",
      "Epoch 51/125\n",
      "13/13 [==============================] - 0s 32ms/step - loss: 0.0027 - val_loss: 2.9249e-04\n",
      "Epoch 52/125\n",
      "13/13 [==============================] - 0s 31ms/step - loss: 0.0023 - val_loss: 1.7483e-04\n",
      "Epoch 53/125\n",
      "13/13 [==============================] - 0s 31ms/step - loss: 0.0034 - val_loss: 2.5610e-04\n",
      "Epoch 54/125\n",
      "13/13 [==============================] - 0s 31ms/step - loss: 0.0030 - val_loss: 2.4580e-04\n",
      "Epoch 55/125\n",
      "13/13 [==============================] - 0s 31ms/step - loss: 0.0030 - val_loss: 1.9209e-04\n",
      "Epoch 56/125\n",
      "13/13 [==============================] - 0s 32ms/step - loss: 0.0028 - val_loss: 2.6029e-04\n",
      "Epoch 57/125\n",
      "13/13 [==============================] - 0s 31ms/step - loss: 0.0034 - val_loss: 2.1450e-04\n",
      "Epoch 58/125\n",
      "13/13 [==============================] - 0s 31ms/step - loss: 0.0029 - val_loss: 2.3617e-04\n",
      "Epoch 59/125\n",
      "13/13 [==============================] - 0s 35ms/step - loss: 0.0032 - val_loss: 2.2761e-04\n",
      "Epoch 60/125\n",
      "13/13 [==============================] - 0s 31ms/step - loss: 0.0028 - val_loss: 2.2016e-04\n",
      "Epoch 61/125\n",
      "13/13 [==============================] - 0s 30ms/step - loss: 0.0031 - val_loss: 2.2163e-04\n",
      "Epoch 62/125\n",
      "13/13 [==============================] - 0s 31ms/step - loss: 0.0033 - val_loss: 2.0827e-04\n",
      "Epoch 63/125\n",
      "13/13 [==============================] - 0s 32ms/step - loss: 0.0032 - val_loss: 3.7822e-04\n",
      "Epoch 64/125\n",
      "13/13 [==============================] - 0s 35ms/step - loss: 0.0036 - val_loss: 1.8175e-04\n",
      "Epoch 65/125\n",
      "13/13 [==============================] - 0s 31ms/step - loss: 0.0034 - val_loss: 3.3854e-04\n",
      "Epoch 66/125\n",
      "13/13 [==============================] - 0s 31ms/step - loss: 0.0033 - val_loss: 3.6375e-04\n",
      "Epoch 67/125\n",
      "13/13 [==============================] - 0s 32ms/step - loss: 0.0029 - val_loss: 1.9964e-04\n",
      "Epoch 68/125\n",
      "13/13 [==============================] - 0s 31ms/step - loss: 0.0031 - val_loss: 2.7256e-04\n",
      "Epoch 69/125\n",
      "13/13 [==============================] - 0s 31ms/step - loss: 0.0030 - val_loss: 2.3804e-04\n",
      "Epoch 70/125\n",
      "13/13 [==============================] - 0s 31ms/step - loss: 0.0033 - val_loss: 1.5795e-04\n",
      "Epoch 71/125\n",
      "13/13 [==============================] - 0s 31ms/step - loss: 0.0028 - val_loss: 1.1978e-04\n",
      "Epoch 72/125\n",
      "13/13 [==============================] - 0s 33ms/step - loss: 0.0029 - val_loss: 6.8278e-04\n",
      "Epoch 73/125\n",
      "13/13 [==============================] - 0s 35ms/step - loss: 0.0034 - val_loss: 2.3297e-04\n",
      "Epoch 74/125\n",
      "13/13 [==============================] - 0s 34ms/step - loss: 0.0037 - val_loss: 4.2598e-04\n",
      "Epoch 75/125\n",
      "13/13 [==============================] - 0s 31ms/step - loss: 0.0029 - val_loss: 2.7548e-04\n",
      "Epoch 76/125\n",
      "13/13 [==============================] - 0s 30ms/step - loss: 0.0023 - val_loss: 1.5284e-04\n",
      "Epoch 77/125\n",
      "13/13 [==============================] - 0s 33ms/step - loss: 0.0028 - val_loss: 1.7546e-04\n",
      "Epoch 78/125\n",
      "13/13 [==============================] - 0s 34ms/step - loss: 0.0032 - val_loss: 2.3111e-04\n",
      "Epoch 79/125\n",
      "13/13 [==============================] - 0s 31ms/step - loss: 0.0023 - val_loss: 3.7730e-04\n",
      "Epoch 80/125\n",
      "13/13 [==============================] - 0s 31ms/step - loss: 0.0025 - val_loss: 1.5680e-04\n",
      "Epoch 81/125\n",
      "13/13 [==============================] - 0s 31ms/step - loss: 0.0027 - val_loss: 2.2630e-04\n",
      "Epoch 82/125\n",
      "13/13 [==============================] - 0s 31ms/step - loss: 0.0029 - val_loss: 3.2263e-04\n",
      "Epoch 83/125\n",
      "13/13 [==============================] - 0s 32ms/step - loss: 0.0024 - val_loss: 2.3571e-04\n",
      "Epoch 84/125\n",
      "13/13 [==============================] - 0s 33ms/step - loss: 0.0022 - val_loss: 2.0874e-04\n",
      "Epoch 85/125\n",
      "13/13 [==============================] - 0s 31ms/step - loss: 0.0021 - val_loss: 2.3532e-04\n",
      "Epoch 86/125\n",
      "13/13 [==============================] - 0s 31ms/step - loss: 0.0024 - val_loss: 1.8251e-04\n",
      "Epoch 87/125\n",
      "13/13 [==============================] - 0s 31ms/step - loss: 0.0027 - val_loss: 1.5254e-04\n",
      "Epoch 88/125\n",
      "13/13 [==============================] - 0s 31ms/step - loss: 0.0023 - val_loss: 1.7094e-04\n",
      "Epoch 89/125\n",
      "13/13 [==============================] - 0s 31ms/step - loss: 0.0021 - val_loss: 2.0079e-04\n",
      "Epoch 90/125\n",
      "13/13 [==============================] - 0s 31ms/step - loss: 0.0026 - val_loss: 1.6777e-04\n",
      "Epoch 91/125\n",
      "13/13 [==============================] - 0s 31ms/step - loss: 0.0028 - val_loss: 1.0257e-04\n",
      "Epoch 92/125\n",
      "13/13 [==============================] - 0s 31ms/step - loss: 0.0033 - val_loss: 5.9397e-04\n",
      "Epoch 93/125\n",
      "13/13 [==============================] - 0s 34ms/step - loss: 0.0027 - val_loss: 1.8129e-04\n",
      "Epoch 94/125\n",
      "13/13 [==============================] - 0s 34ms/step - loss: 0.0025 - val_loss: 4.8169e-04\n",
      "Epoch 95/125\n",
      "13/13 [==============================] - 0s 31ms/step - loss: 0.0023 - val_loss: 1.8623e-04\n",
      "Epoch 96/125\n",
      "13/13 [==============================] - 0s 31ms/step - loss: 0.0025 - val_loss: 2.2499e-04\n",
      "Epoch 97/125\n",
      "13/13 [==============================] - 0s 31ms/step - loss: 0.0025 - val_loss: 4.0897e-04\n",
      "Epoch 98/125\n",
      "13/13 [==============================] - 0s 31ms/step - loss: 0.0027 - val_loss: 3.6760e-04\n",
      "Epoch 99/125\n",
      "13/13 [==============================] - 0s 31ms/step - loss: 0.0025 - val_loss: 1.7052e-04\n",
      "Epoch 100/125\n",
      "13/13 [==============================] - 0s 31ms/step - loss: 0.0021 - val_loss: 5.9498e-05\n",
      "Epoch 101/125\n",
      "13/13 [==============================] - 0s 33ms/step - loss: 0.0023 - val_loss: 2.6862e-04\n",
      "Epoch 102/125\n",
      "13/13 [==============================] - 0s 35ms/step - loss: 0.0022 - val_loss: 1.6976e-04\n",
      "Epoch 103/125\n",
      "13/13 [==============================] - 0s 34ms/step - loss: 0.0018 - val_loss: 2.0664e-04\n",
      "Epoch 104/125\n",
      "13/13 [==============================] - 0s 34ms/step - loss: 0.0023 - val_loss: 2.0324e-04\n",
      "Epoch 105/125\n",
      "13/13 [==============================] - 0s 31ms/step - loss: 0.0019 - val_loss: 7.2045e-05\n",
      "Epoch 106/125\n",
      "13/13 [==============================] - 0s 31ms/step - loss: 0.0026 - val_loss: 2.0520e-04\n",
      "Epoch 107/125\n",
      "13/13 [==============================] - 0s 33ms/step - loss: 0.0024 - val_loss: 1.3621e-04\n",
      "Epoch 108/125\n",
      "13/13 [==============================] - 0s 32ms/step - loss: 0.0021 - val_loss: 1.1992e-04\n",
      "Epoch 109/125\n",
      "13/13 [==============================] - 0s 32ms/step - loss: 0.0024 - val_loss: 5.2856e-05\n",
      "Epoch 110/125\n",
      "13/13 [==============================] - 0s 32ms/step - loss: 0.0022 - val_loss: 1.9117e-04\n",
      "Epoch 111/125\n",
      "13/13 [==============================] - 0s 31ms/step - loss: 0.0021 - val_loss: 2.8697e-04\n",
      "Epoch 112/125\n",
      "13/13 [==============================] - 0s 31ms/step - loss: 0.0019 - val_loss: 8.7690e-05\n",
      "Epoch 113/125\n",
      "13/13 [==============================] - 0s 33ms/step - loss: 0.0018 - val_loss: 9.7252e-05\n",
      "Epoch 114/125\n",
      "13/13 [==============================] - 0s 32ms/step - loss: 0.0021 - val_loss: 4.1311e-04\n",
      "Epoch 115/125\n",
      "13/13 [==============================] - 0s 31ms/step - loss: 0.0022 - val_loss: 1.8179e-04\n",
      "Epoch 116/125\n",
      "13/13 [==============================] - 0s 31ms/step - loss: 0.0023 - val_loss: 3.4398e-04\n",
      "Epoch 117/125\n",
      "13/13 [==============================] - 0s 31ms/step - loss: 0.0027 - val_loss: 1.2112e-04\n",
      "Epoch 118/125\n",
      "13/13 [==============================] - 0s 33ms/step - loss: 0.0018 - val_loss: 4.8679e-05\n",
      "Epoch 119/125\n",
      "13/13 [==============================] - 0s 31ms/step - loss: 0.0023 - val_loss: 1.9780e-04\n",
      "Epoch 120/125\n",
      "13/13 [==============================] - 0s 32ms/step - loss: 0.0021 - val_loss: 9.7050e-05\n",
      "Epoch 121/125\n",
      "13/13 [==============================] - 0s 34ms/step - loss: 0.0022 - val_loss: 3.5157e-04\n",
      "Epoch 122/125\n",
      "13/13 [==============================] - 0s 31ms/step - loss: 0.0020 - val_loss: 1.1647e-04\n",
      "Epoch 123/125\n",
      "13/13 [==============================] - 0s 33ms/step - loss: 0.0017 - val_loss: 1.7654e-04\n",
      "Epoch 124/125\n",
      "13/13 [==============================] - 0s 31ms/step - loss: 0.0016 - val_loss: 8.6528e-05\n",
      "Epoch 125/125\n",
      "13/13 [==============================] - 0s 33ms/step - loss: 0.0023 - val_loss: 2.1206e-04\n"
     ]
    },
    {
     "data": {
      "text/plain": [
       "<matplotlib.legend.Legend at 0x7f03436067d0>"
      ]
     },
     "execution_count": 14,
     "metadata": {},
     "output_type": "execute_result"
    },
    {
     "data": {
      "image/png": "[encoded data removed]",
      "text/plain": [
       "<Figure size 914.4x379.44 with 1 Axes>"
      ]
     },
     "metadata": {},
     "output_type": "display_data"
    }
   ],
   "source": [
    "# Defining the LSTM Model\n",
    "\n",
    "model = Sequential()\n",
    "model.add(LSTM(64, activation='relu', input_shape=(trainX.shape[1], trainX.shape[2]), return_sequences=True))\n",
    "model.add(LSTM(32, activation='relu', return_sequences=False))\n",
    "model.add(Dropout(0.2))\n",
    "model.add(Dense(trainY.shape[1]))\n",
    "\n",
    "model.compile(optimizer='adam', loss='mean_squared_error')\n",
    "  \n",
    "# Fitting the Model\n",
    "history = model.fit(trainX, trainY, epochs=125, batch_size=32, validation_split=0.1, verbose=1)\n",
    "\n",
    "plt.plot(history.history['loss'], label='Training loss')\n",
    "plt.plot(history.history['val_loss'], label='Validation loss')\n",
    "plt.legend()"
   ]
  },
  {
   "cell_type": "markdown",
   "metadata": {
    "id": "K15vaQy1eXEK"
   },
   "source": [
    "#### Our model is now trained and can be used to make predictions, let's forecast next seven days from the last day, by creating a custom date range"
   ]
  },
  {
   "cell_type": "code",
   "execution_count": 15,
   "metadata": {
    "colab": {
     "base_uri": "https://localhost:8080/",
     "height": 300
    },
    "id": "g3aSSza9cyG4",
    "outputId": "0fe4960d-04b8-415b-fab1-37d12b496bbb"
   },
   "outputs": [
    {
     "data": {
      "text/html": [
       "\n",
       "  <div id=\"df-d94b20e6-6c77-4eeb-a69c-3d711a51a424\">\n",
       "    <div class=\"colab-df-container\">\n",
       "      <div>\n",
       "<style scoped>\n",
       "    .dataframe tbody tr th:only-of-type {\n",
       "        vertical-align: middle;\n",
       "    }\n",
       "\n",
       "    .dataframe tbody tr th {\n",
       "        vertical-align: top;\n",
       "    }\n",
       "\n",
       "    .dataframe thead th {\n",
       "        text-align: right;\n",
       "    }\n",
       "</style>\n",
       "<table border=\"1\" class=\"dataframe\">\n",
       "  <thead>\n",
       "    <tr style=\"text-align: right;\">\n",
       "      <th></th>\n",
       "      <th>Date</th>\n",
       "      <th>DAPR</th>\n",
       "    </tr>\n",
       "  </thead>\n",
       "  <tbody>\n",
       "    <tr>\n",
       "      <th>0</th>\n",
       "      <td>2022-04-13</td>\n",
       "      <td>0.033333</td>\n",
       "    </tr>\n",
       "    <tr>\n",
       "      <th>1</th>\n",
       "      <td>2022-04-14</td>\n",
       "      <td>0.034011</td>\n",
       "    </tr>\n",
       "    <tr>\n",
       "      <th>2</th>\n",
       "      <td>2022-04-15</td>\n",
       "      <td>0.034149</td>\n",
       "    </tr>\n",
       "    <tr>\n",
       "      <th>3</th>\n",
       "      <td>2022-04-16</td>\n",
       "      <td>0.034314</td>\n",
       "    </tr>\n",
       "    <tr>\n",
       "      <th>4</th>\n",
       "      <td>2022-04-17</td>\n",
       "      <td>0.033976</td>\n",
       "    </tr>\n",
       "    <tr>\n",
       "      <th>5</th>\n",
       "      <td>2022-04-18</td>\n",
       "      <td>0.033364</td>\n",
       "    </tr>\n",
       "    <tr>\n",
       "      <th>6</th>\n",
       "      <td>2022-04-19</td>\n",
       "      <td>0.033112</td>\n",
       "    </tr>\n",
       "    <tr>\n",
       "      <th>7</th>\n",
       "      <td>2022-04-20</td>\n",
       "      <td>0.032550</td>\n",
       "    </tr>\n",
       "  </tbody>\n",
       "</table>\n",
       "</div>\n",
       "      <button class=\"colab-df-convert\" onclick=\"convertToInteractive('df-d94b20e6-6c77-4eeb-a69c-3d711a51a424')\"\n",
       "              title=\"Convert this dataframe to an interactive table.\"\n",
       "              style=\"display:none;\">\n",
       "        \n",
       "  <svg xmlns=\"http://www.w3.org/2000/svg\" height=\"24px\"viewBox=\"0 0 24 24\"\n",
       "       width=\"24px\">\n",
       "    <path d=\"M0 0h24v24H0V0z\" fill=\"none\"/>\n",
       "    <path d=\"M18.56 5.44l.94 2.06.94-2.06 2.06-.94-2.06-.94-.94-2.06-.94 2.06-2.06.94zm-11 1L8.5 8.5l.94-2.06 2.06-.94-2.06-.94L8.5 2.5l-.94 2.06-2.06.94zm10 10l.94 2.06.94-2.06 2.06-.94-2.06-.94-.94-2.06-.94 2.06-2.06.94z\"/><path d=\"M17.41 7.96l-1.37-1.37c-.4-.4-.92-.59-1.43-.59-.52 0-1.04.2-1.43.59L10.3 9.45l-7.72 7.72c-.78.78-.78 2.05 0 2.83L4 21.41c.39.39.9.59 1.41.59.51 0 1.02-.2 1.41-.59l7.78-7.78 2.81-2.81c.8-.78.8-2.07 0-2.86zM5.41 20L4 18.59l7.72-7.72 1.47 1.35L5.41 20z\"/>\n",
       "  </svg>\n",
       "      </button>\n",
       "      \n",
       "  <style>\n",
       "    .colab-df-container {\n",
       "      display:flex;\n",
       "      flex-wrap:wrap;\n",
       "      gap: 12px;\n",
       "    }\n",
       "\n",
       "    .colab-df-convert {\n",
       "      background-color: #E8F0FE;\n",
       "      border: none;\n",
       "      border-radius: 50%;\n",
       "      cursor: pointer;\n",
       "      display: none;\n",
       "      fill: #1967D2;\n",
       "      height: 32px;\n",
       "      padding: 0 0 0 0;\n",
       "      width: 32px;\n",
       "    }\n",
       "\n",
       "    .colab-df-convert:hover {\n",
       "      background-color: #E2EBFA;\n",
       "      box-shadow: 0px 1px 2px rgba(60, 64, 67, 0.3), 0px 1px 3px 1px rgba(60, 64, 67, 0.15);\n",
       "      fill: #174EA6;\n",
       "    }\n",
       "\n",
       "    [theme=dark] .colab-df-convert {\n",
       "      background-color: #3B4455;\n",
       "      fill: #D2E3FC;\n",
       "    }\n",
       "\n",
       "    [theme=dark] .colab-df-convert:hover {\n",
       "      background-color: #434B5C;\n",
       "      box-shadow: 0px 1px 3px 1px rgba(0, 0, 0, 0.15);\n",
       "      filter: drop-shadow(0px 1px 2px rgba(0, 0, 0, 0.3));\n",
       "      fill: #FFFFFF;\n",
       "    }\n",
       "  </style>\n",
       "\n",
       "      <script>\n",
       "        const buttonEl =\n",
       "          document.querySelector('#df-d94b20e6-6c77-4eeb-a69c-3d711a51a424 button.colab-df-convert');\n",
       "        buttonEl.style.display =\n",
       "          google.colab.kernel.accessAllowed ? 'block' : 'none';\n",
       "\n",
       "        async function convertToInteractive(key) {\n",
       "          const element = document.querySelector('#df-d94b20e6-6c77-4eeb-a69c-3d711a51a424');\n",
       "          const dataTable =\n",
       "            await google.colab.kernel.invokeFunction('convertToInteractive',\n",
       "                                                     [key], {});\n",
       "          if (!dataTable) return;\n",
       "\n",
       "          const docLinkHtml = 'Like what you see? Visit the ' +\n",
       "            '<a target=\"_blank\" href=https://colab.research.google.com/notebooks/data_table.ipynb>data table notebook</a>'\n",
       "            + ' to learn more about interactive tables.';\n",
       "          element.innerHTML = '';\n",
       "          dataTable['output_type'] = 'display_data';\n",
       "          await google.colab.output.renderOutput(dataTable, element);\n",
       "          const docLink = document.createElement('div');\n",
       "          docLink.innerHTML = docLinkHtml;\n",
       "          element.appendChild(docLink);\n",
       "        }\n",
       "      </script>\n",
       "    </div>\n",
       "  </div>\n",
       "  "
      ],
      "text/plain": [
       "        Date      DAPR\n",
       "0 2022-04-13  0.033333\n",
       "1 2022-04-14  0.034011\n",
       "2 2022-04-15  0.034149\n",
       "3 2022-04-16  0.034314\n",
       "4 2022-04-17  0.033976\n",
       "5 2022-04-18  0.033364\n",
       "6 2022-04-19  0.033112\n",
       "7 2022-04-20  0.032550"
      ]
     },
     "execution_count": 15,
     "metadata": {},
     "output_type": "execute_result"
    }
   ],
   "source": [
    "# Storing the dates in variable train_dates\n",
    "train_dates = data['Date']\n",
    "\n",
    "# Total number of Days we will forecast in future\n",
    "n_days_for_prediction = 8\n",
    "\n",
    "# Dates for Out-sample predictions\n",
    "predict_future_dates = pd.date_range(list(train_dates)[-1], periods=n_days_for_prediction, freq = '1D').tolist()\n",
    "\n",
    "#Forecasting for the future Dates\n",
    "prediction = model.predict(trainX[-n_days_for_prediction:])\n",
    "\n",
    "# Performing Inverse Transformation\n",
    "prediction_copies = np.repeat(prediction, df.shape[1], axis=-1)\n",
    "y_pred_future = scaler.inverse_transform(prediction_copies)[:,0]\n",
    "\n",
    "# Converting Timestamp to Date\n",
    "forecast_dates = []\n",
    "for time_i in predict_future_dates:\n",
    "  forecast_dates.append(time_i.date())\n",
    "\n",
    "# Storing Results in a Dataframe for in-sample\n",
    "forecast = pd.DataFrame({'Date':np.array(forecast_dates), 'DAPR':y_pred_future})\n",
    "forecast['Date']=pd.to_datetime(forecast['Date'])\n",
    "\n",
    "\n",
    "forecast"
   ]
  },
  {
   "cell_type": "markdown",
   "metadata": {
    "id": "GtgFoe7geo0M"
   },
   "source": [
    "#### We finally have our final datafame with forecast values, which looks quite aligned with the actual values"
   ]
  },
  {
   "cell_type": "markdown",
   "metadata": {
    "id": "OkmGrLBjXDjX"
   },
   "source": [
    "#### Plotting Actual and Forecast values"
   ]
  },
  {
   "cell_type": "code",
   "execution_count": 16,
   "metadata": {
    "colab": {
     "base_uri": "https://localhost:8080/",
     "height": 399
    },
    "id": "mdj-KaElbWo0",
    "outputId": "64f53843-dc5c-4512-f149-4db28b008b05"
   },
   "outputs": [
    {
     "data": {
      "image/png": "[encoded data removed]",
      "text/plain": [
       "<Figure size 914.4x379.44 with 1 Axes>"
      ]
     },
     "metadata": {},
     "output_type": "display_data"
    }
   ],
   "source": [
    "# Plotting the Predictions \n",
    "\n",
    "plt.xticks(rotation=45)\n",
    "\n",
    "# Plotting the Forecast \n",
    "sns.lineplot(data['Date'],data['DAPR'],label='Actual')\n",
    "sns.lineplot(forecast['Date'], forecast['DAPR'],label='Forecast') \n",
    "plt.title(\"Out-Sample Forecating\")\n",
    "plt.show()"
   ]
  }
 ],
 "metadata": {
  "accelerator": "GPU",
  "colab": {
   "collapsed_sections": [],
   "machine_shape": "hm",
   "name": "LSTM.ipynb",
   "provenance": []
  },
  "kernelspec": {
   "display_name": "Python 3",
   "language": "python",
   "name": "python3"
  },
  "language_info": {
   "codemirror_mode": {
    "name": "ipython",
    "version": 3
   },
   "file_extension": ".py",
   "mimetype": "text/x-python",
   "name": "python",
   "nbconvert_exporter": "python",
   "pygments_lexer": "ipython3",
   "version": "3.8.8"
  }
 },
 "nbformat": 4,
 "nbformat_minor": 1
}
